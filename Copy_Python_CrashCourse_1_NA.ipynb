{
  "nbformat": 4,
  "nbformat_minor": 0,
  "metadata": {
    "colab": {
      "provenance": [],
      "gpuType": "T4"
    },
    "kernelspec": {
      "name": "python3",
      "display_name": "Python 3"
    },
    "language_info": {
      "name": "python"
    },
    "accelerator": "GPU"
  },
  "cells": [
    {
      "cell_type": "markdown",
      "source": [
        "# Getting Started\n",
        "\n",
        "Created by Sarah Oberbichler [![ORCID](https://info.orcid.org/wp-content/uploads/2019/11/orcid_16x16.png)](https://orcid.org/0000-0002-1031-2759)\n"
      ],
      "metadata": {
        "id": "NH7ow5o9WcSw"
      }
    },
    {
      "cell_type": "markdown",
      "source": [
        "To run code, click the play button that appears when hovering over the left margin of the code cell, or use the keyboard shortcut Ctrl+Enter. The code will then execute, and its output will be displayed below the code cell. See also what happens, if you remove the quotation marks."
      ],
      "metadata": {
        "id": "QC0OpzlW1nRA"
      }
    },
    {
      "cell_type": "code",
      "source": [
        "print(\"Ready, set, GO!\")"
      ],
      "metadata": {
        "id": "BXz52tb-Ws-q",
        "colab": {
          "base_uri": "https://localhost:8080/"
        },
        "outputId": "dce337df-f85c-4aaf-c076-0469227f4acc"
      },
      "execution_count": null,
      "outputs": [
        {
          "output_type": "stream",
          "name": "stdout",
          "text": [
            "Ready, set, GO!\n"
          ]
        }
      ]
    },
    {
      "cell_type": "markdown",
      "source": [
        "Let's do some simple math. Run the code to see how much 50 * 17 is. Try the same with plus, minus and fraction"
      ],
      "metadata": {
        "id": "MjXqAK-rcIlY"
      }
    },
    {
      "cell_type": "code",
      "source": [
        "print(50 * 17)\n",
        "print(50 + 17)\n",
        "print(50 - 17)\n",
        "print(50 / 17)\n"
      ],
      "metadata": {
        "id": "Y6TBnFqfYW5O",
        "colab": {
          "base_uri": "https://localhost:8080/"
        },
        "outputId": "e72ec51e-5415-41d0-90a8-85d6fb0c8d41"
      },
      "execution_count": null,
      "outputs": [
        {
          "output_type": "stream",
          "name": "stdout",
          "text": [
            "850\n",
            "67\n",
            "33\n",
            "2.9411764705882355\n"
          ]
        }
      ]
    },
    {
      "cell_type": "markdown",
      "source": [
        "#Variable Assignment\n",
        "\n",
        "A variable acts like a container or label for a piece of data, allowing you to easily access and manipulate that information later.\n",
        "\n",
        "When you connect a name to a specific piece of data, you can then use that name to retrieve the data or perform operations on it.\n",
        "\n",
        "To create a variable, use the = symbol. Put the name you want to give your data on the left side of the equals sign, and the actual data (or \"value\") on the right side.\n",
        "\n",
        "\n",
        "*chosen_name = data_or_value*\n",
        "\n",
        "This action doesn't produce any immediate visible result. Instead, it saves the connection between the name and the data in the computer's memory. You can then use this name throughout your coding session to refer back to that specific piece of data.\n",
        "\n",
        "\n",
        "\n",
        "\n"
      ],
      "metadata": {
        "id": "Wk9VQusadbbR"
      }
    },
    {
      "cell_type": "code",
      "source": [
        "# @markdown ##### Run the cell\n",
        "x = 2"
      ],
      "metadata": {
        "id": "1MgleKd3dHOC"
      },
      "execution_count": null,
      "outputs": []
    },
    {
      "cell_type": "code",
      "source": [
        "# @markdown ##### Now print x\n",
        "\n",
        "# add your code here below:\n",
        "\n",
        "print(x)"
      ],
      "metadata": {
        "id": "y-GFAs7EXK-l",
        "colab": {
          "base_uri": "https://localhost:8080/"
        },
        "outputId": "122e0072-cad3-49dd-c987-c372e1f0bbc4"
      },
      "execution_count": null,
      "outputs": [
        {
          "output_type": "stream",
          "name": "stdout",
          "text": [
            "2\n"
          ]
        }
      ]
    },
    {
      "cell_type": "code",
      "source": [
        "# @markdown ##### Can you tell what happens here?\n",
        "# @markdown  Answer from N.A.: The print function first executes a mathematical multiplication problem, then confirms that x is equal to itself with the boolean term \"True\", and finally states that, based on the prior entry that x is equal to 2, the statement x > 6 must be \"False\".\n",
        "print(x * 2)\n",
        "print(x == x)\n",
        "print(x > 6)"
      ],
      "metadata": {
        "id": "iFRbU1CgXXHs",
        "colab": {
          "base_uri": "https://localhost:8080/"
        },
        "outputId": "2e585bed-e635-49eb-99c6-70d95cf4faa2"
      },
      "execution_count": null,
      "outputs": [
        {
          "output_type": "stream",
          "name": "stdout",
          "text": [
            "4\n",
            "True\n",
            "False\n"
          ]
        }
      ]
    },
    {
      "cell_type": "markdown",
      "source": [
        "You can use a variable to store any type of data. In our previous example, we stored text (known as a string) in a variable. It's important to remember that when working with text, you need to enclose it in quotation marks.\n",
        "\n",
        "The term 'variable' comes from the fact that their contents can change. You have the flexibility to update what's stored in a variable at any time. However, be cautious: if you use the same variable name again with a new value, it will replace the original data stored there."
      ],
      "metadata": {
        "id": "5pwzm6CgWRoI"
      }
    },
    {
      "cell_type": "code",
      "source": [
        "political_party = 'CDU'"
      ],
      "metadata": {
        "id": "XAprLw91WAEk"
      },
      "execution_count": null,
      "outputs": []
    },
    {
      "cell_type": "code",
      "source": [
        "political_party"
      ],
      "metadata": {
        "id": "pUaJy6K5WC3G",
        "colab": {
          "base_uri": "https://localhost:8080/",
          "height": 35
        },
        "outputId": "580c602b-4d86-4bfb-e608-099d96ef76ac"
      },
      "execution_count": null,
      "outputs": [
        {
          "output_type": "execute_result",
          "data": {
            "text/plain": [
              "'CDU'"
            ],
            "application/vnd.google.colaboratory.intrinsic+json": {
              "type": "string"
            }
          },
          "metadata": {},
          "execution_count": 9
        }
      ]
    },
    {
      "cell_type": "code",
      "source": [
        "#Let's add another political party:\n",
        "political_party = 'AFD'"
      ],
      "metadata": {
        "id": "-tzQvJB5WH-f"
      },
      "execution_count": null,
      "outputs": []
    },
    {
      "cell_type": "code",
      "source": [
        "political_party"
      ],
      "metadata": {
        "id": "ttMmrnm_WJxM",
        "colab": {
          "base_uri": "https://localhost:8080/",
          "height": 35
        },
        "outputId": "744f6725-c0b8-4120-9225-4ecf8b224ed3"
      },
      "execution_count": null,
      "outputs": [
        {
          "output_type": "execute_result",
          "data": {
            "text/plain": [
              "'AFD'"
            ],
            "application/vnd.google.colaboratory.intrinsic+json": {
              "type": "string"
            }
          },
          "metadata": {},
          "execution_count": 11
        }
      ]
    },
    {
      "cell_type": "code",
      "source": [
        "# @markdown ##### **Exercise 1:** How could we solve this problem? How can we save both political parties?\n",
        "\n",
        "#add your code here below\n",
        "\n",
        "political_party1 = \"CDU\"\n",
        "political_party2 = \"AFD\"\n",
        "print(political_party1)\n",
        "print(political_party2)\n"
      ],
      "metadata": {
        "id": "h3DhyNmlXnoc",
        "colab": {
          "base_uri": "https://localhost:8080/"
        },
        "outputId": "68da1360-eef8-4576-a3dd-bccce4ddfec7"
      },
      "execution_count": null,
      "outputs": [
        {
          "output_type": "stream",
          "name": "stdout",
          "text": [
            "CDU\n",
            "AFD\n"
          ]
        }
      ]
    },
    {
      "cell_type": "code",
      "source": [
        "# @markdown ##### **Exercise 2:** Write a simple program that calculates how many minutes there are in seven weeks. Use variables for this exercise.\n",
        "\n",
        "minutes_per_hour = 60\n",
        "hours_per_day = 24\n",
        "days_per_week = 7\n",
        "total_weeks = 7\n",
        "minutes_in_7_weeks = minutes_per_hour * hours_per_day * days_per_week * total_weeks\n",
        "print(minutes_in_7_weeks)\n",
        "\n",
        "\n"
      ],
      "metadata": {
        "id": "BngMw19pbVqI",
        "colab": {
          "base_uri": "https://localhost:8080/"
        },
        "outputId": "cbd21a60-7d99-41f1-e5fe-a5181657fc96"
      },
      "execution_count": null,
      "outputs": [
        {
          "output_type": "stream",
          "name": "stdout",
          "text": [
            "70560\n"
          ]
        }
      ]
    },
    {
      "cell_type": "markdown",
      "source": [
        "# String Manipulation\n",
        "Many disciplines within the humanities work on texts. Quite naturally programming for the humanities will focus a lot on manipulating texts. Strings can -  just as numbers - be added, or, more precisely, concatenated, together."
      ],
      "metadata": {
        "id": "hMqNG1pwgMO3"
      }
    },
    {
      "cell_type": "code",
      "source": [
        "# @markdown #####  Add your name to the variable \"my_name\" and run the code\n",
        "\n",
        "my_name = 'Natasha'\n",
        "book = \"Ninth House\"\n",
        "author = 'Leigh Bardugo.'\n",
        "print(my_name + \" likes \" + book + \" by \" + author)\n",
        "\n",
        "\n"
      ],
      "metadata": {
        "id": "NZq6-lKVgurB",
        "colab": {
          "base_uri": "https://localhost:8080/"
        },
        "outputId": "d4dc1bbe-380c-4894-8924-100b04f78dd2"
      },
      "execution_count": null,
      "outputs": [
        {
          "output_type": "stream",
          "name": "stdout",
          "text": [
            "Natasha likes Ninth House by Leigh Bardugo.\n"
          ]
        }
      ]
    },
    {
      "cell_type": "code",
      "source": [
        "# @markdown ##### This string consists of a number of characters. We can access the individual characters with the help of indexing. For example, to find only the first letter of your name, you can type in [0]. Now try to find the second letter in your name:\n",
        "\n",
        "first_letter = my_name[0]\n",
        "print(\"The first letter of my name is: \" + first_letter)\n",
        "second_letter = my_name[1]\n",
        "print(\"The second letter of my name is: \" + second_letter)"
      ],
      "metadata": {
        "id": "BAnnmODxiEj4",
        "colab": {
          "base_uri": "https://localhost:8080/"
        },
        "outputId": "d854bddb-26ee-45ab-fabf-37d8fb34ddf9"
      },
      "execution_count": null,
      "outputs": [
        {
          "output_type": "stream",
          "name": "stdout",
          "text": [
            "The first letter of my name is: N\n",
            "The second letter of my name is: a\n"
          ]
        }
      ]
    },
    {
      "cell_type": "code",
      "source": [
        "# @markdown ##### To find the last letter in your name, you might want to know how many letters your name has. We can do this with the function len(), which returns the length of a string:\n",
        "print(len(my_name))"
      ],
      "metadata": {
        "id": "vOtpFb9tiug8",
        "colab": {
          "base_uri": "https://localhost:8080/"
        },
        "outputId": "18310d8a-feeb-48f3-bf2b-b766e9ae4225"
      },
      "execution_count": null,
      "outputs": [
        {
          "output_type": "stream",
          "name": "stdout",
          "text": [
            "7\n"
          ]
        }
      ]
    },
    {
      "cell_type": "code",
      "source": [
        "# @markdown ##### Can you explain what this code is doing?\n",
        "# @markdown ##### Answer from N.A.: This code is showing the last letter of my name by subtracting 1 from the length of my name (7-1=6), which corresponds to the command for the last letter, since Python gives the first element of a string the value of 0 and counts up from there.\n",
        "print(my_name[len(my_name)-1])"
      ],
      "metadata": {
        "id": "1eSonN1bjIkU",
        "colab": {
          "base_uri": "https://localhost:8080/"
        },
        "outputId": "1c581fa4-dbbd-4636-d0d2-530cad783c41"
      },
      "execution_count": null,
      "outputs": [
        {
          "output_type": "stream",
          "name": "stdout",
          "text": [
            "a\n"
          ]
        }
      ]
    },
    {
      "cell_type": "code",
      "source": [
        "# @markdown ##### Can you explain what this code is doing?\n",
        "# @markdown ##### Answer from N.A.: The code is presenting the first two letters of my name by \"slicing\" or calling up the elements from 0 to 2, which correspond to \"N\" and \"a\".\n",
        "first_two_letters = my_name[0:2]\n",
        "print(first_two_letters)"
      ],
      "metadata": {
        "id": "rxx2xi9tleiD",
        "colab": {
          "base_uri": "https://localhost:8080/"
        },
        "outputId": "8f7bc282-e9e4-48ba-d7e6-aa501bdcc953"
      },
      "execution_count": null,
      "outputs": [
        {
          "output_type": "stream",
          "name": "stdout",
          "text": [
            "Na\n"
          ]
        }
      ]
    },
    {
      "cell_type": "code",
      "source": [
        "# @markdown ##### **Exercise 3:** Given the following two words, can you write code that prints out the word humanities using only slicing and concatenation? (So, no quotes are allowed in your code.)\n",
        "\n",
        "word1 = \"human\"\n",
        "word2 = \"opportunities\"\n",
        "\n",
        "# insert your code here\n",
        "word3 = word1 + word2[8:]\n",
        "print(word3)\n"
      ],
      "metadata": {
        "id": "KEg-uShKjs5j",
        "colab": {
          "base_uri": "https://localhost:8080/"
        },
        "outputId": "f580f741-7dc8-45ed-f15c-c7b0b3cfb40d"
      },
      "execution_count": null,
      "outputs": [
        {
          "output_type": "stream",
          "name": "stdout",
          "text": [
            "humanities\n"
          ]
        }
      ]
    },
    {
      "cell_type": "markdown",
      "source": [
        "\n",
        "# Lists\n",
        "\n",
        "\n",
        ">**List:** An ordered, changeable collection of values.\n",
        "\n",
        "Lists are denoted by **square brackets [ ]**, and its elements are separated by commas. Any object type could be a value within a list, including other lists or collections of objects (putting a list within a list is called nesting).\n",
        "\n",
        "## Example\n",
        "\n",
        "You love traveling to different continents. Perhaps you want to write a piece of code to announce your passion.\n",
        "\n",
        "First, let's describe everything we want the code to do. We could:\n",
        "\n",
        "1. Create a list of seven continents, including 'Asia', 'Africa', 'North America', 'South America', 'Antarctica', 'Europe', 'Australia'\n",
        "\n",
        "2. For each contintent in the list,\n",
        "    print \"This continent is one of the seven continents\",\n",
        "    and then print \"I love this continent\".\n",
        "    \n",
        "3. When done with all continents, print \"But aren't there only six continents?\"\n",
        "\n",
        "That is what the code below does. You might not fully be aware of the details of the structure, but you can begin to read it:"
      ],
      "metadata": {
        "id": "GhYFQ1noU-5w"
      }
    },
    {
      "cell_type": "code",
      "source": [
        "SevenContinents = ['Asia', 'Africa', 'North America', 'South America', 'Antarctica', 'Europe', 'Australia']\n",
        "\n",
        "for continent in SevenContinents:\n",
        "    print(continent, \"is one of the seven continents\")\n",
        "    print(\"I love\", continent)\n",
        "print(\"But aren't there only six continents?\")\n",
        "\n",
        "#(Run me!)"
      ],
      "metadata": {
        "id": "Vi4x6CIHU06p",
        "colab": {
          "base_uri": "https://localhost:8080/"
        },
        "outputId": "3ebc804c-8b79-4cae-d7f6-a4cb50b8cf72"
      },
      "execution_count": null,
      "outputs": [
        {
          "output_type": "stream",
          "name": "stdout",
          "text": [
            "Asia is one of the seven continents\n",
            "I love Asia\n",
            "Africa is one of the seven continents\n",
            "I love Africa\n",
            "North America is one of the seven continents\n",
            "I love North America\n",
            "South America is one of the seven continents\n",
            "I love South America\n",
            "Antarctica is one of the seven continents\n",
            "I love Antarctica\n",
            "Europe is one of the seven continents\n",
            "I love Europe\n",
            "Australia is one of the seven continents\n",
            "I love Australia\n",
            "But aren't there only six continents?\n"
          ]
        }
      ]
    },
    {
      "cell_type": "markdown",
      "source": [
        "This code also uses a **for loop**.\n",
        "Python provides the so-called for-statements that allow us to iterate through any iterable object and perform actions on its elements."
      ],
      "metadata": {
        "id": "J9a9qpUraMQB"
      }
    },
    {
      "cell_type": "code",
      "source": [
        "# @markdown ##### **Exercise 4:** Now let's use the above example to list South Africa's so called *Big Five*. Find out what animals are part of the Big Five and adapt the code to this new example. Then ask, why the hippo is not part of the Big Five.\n",
        "\n",
        "# add your code here below:\n",
        "\n",
        "BigFive = ['Leopards', 'African lions', 'African buffaloes', 'African elephants', 'Rhinoceroses']\n",
        "\n",
        "for animal in BigFive:\n",
        "    print(animal, \"are part of the Big Five of South Africa.\")\n",
        "    print(\"I love\", animal)\n",
        "print(\"But why are hippos not part of the Big Five?\")\n"
      ],
      "metadata": {
        "id": "Z1E4J5r9Ycq2",
        "colab": {
          "base_uri": "https://localhost:8080/"
        },
        "outputId": "1440714e-e71e-498b-91e6-935ed7a1ba1a"
      },
      "execution_count": null,
      "outputs": [
        {
          "output_type": "stream",
          "name": "stdout",
          "text": [
            "Leopards are part of the Big Five of South Africa.\n",
            "I love Leopards\n",
            "African lions are part of the Big Five of South Africa.\n",
            "I love African lions\n",
            "African buffaloes are part of the Big Five of South Africa.\n",
            "I love African buffaloes\n",
            "African elephants are part of the Big Five of South Africa.\n",
            "I love African elephants\n",
            "Rhinoceroses are part of the Big Five of South Africa.\n",
            "I love Rhinoceroses\n",
            "But why are hippos not part of the Big Five?\n"
          ]
        }
      ]
    },
    {
      "cell_type": "markdown",
      "source": [
        "## Let's add the \"if, else\" combination\n",
        "\n",
        "Run the example and try to understand what this code is doing"
      ],
      "metadata": {
        "id": "SB9shIOLX0X-"
      }
    },
    {
      "cell_type": "code",
      "source": [
        "good_reads = [\"The Hunger games\", \"A Clockwork Orange\",\n",
        "              \"Pride and Prejudice\", \"Water for Elephants\",\n",
        "              \"The Shadow of the Wind\", \"Bel Canto\"]\n",
        "\n",
        "book = \"A Clockwork Orange\"\n",
        "if book in good_reads:\n",
        "    print(book + \" is in the collection\")\n",
        "    print(\"A lot more\")\n",
        "    print(\"Still more to come\")\n",
        "else:\n",
        "    print(book + \" is NOT in the collection\")\n",
        "\n",
        "#run me"
      ],
      "metadata": {
        "id": "Rj2WAT-BarYm",
        "colab": {
          "base_uri": "https://localhost:8080/"
        },
        "outputId": "4dff9cfd-fa7f-411e-86fd-b84a632c1ce2"
      },
      "execution_count": null,
      "outputs": [
        {
          "output_type": "stream",
          "name": "stdout",
          "text": [
            "A Clockwork Orange is in the collection\n",
            "A lot more\n",
            "Still more to come\n"
          ]
        }
      ]
    },
    {
      "cell_type": "markdown",
      "source": [
        "#### Exercise 6\n"
      ],
      "metadata": {
        "id": "BkOryi5E-E-b"
      }
    },
    {
      "cell_type": "code",
      "source": [
        "# @markdown ##### 1. Create a list of German political parties\n",
        "\n",
        "# add you code here below\n",
        "\n",
        "political_parties = [\"AfD\", \"BIW\", \"BSW\", \"CDU\",\n",
        "                     \"CSU\", \"FAMILIE\", \"FDP\",\n",
        "                     \"FREIE WÄHLER\", \"DIE GRÜNEN\",\n",
        "                     \"Die LINKE\", \"ÖDP\", \"Die PARTEI\",\n",
        "                     \"SPD\", \"SSW\", \"Tierschutzpartei\",\n",
        "                     \"Volt Deutschland\"]\n",
        "\n"
      ],
      "metadata": {
        "id": "0om4An3eWlyk"
      },
      "execution_count": null,
      "outputs": []
    },
    {
      "cell_type": "code",
      "source": [
        "# @markdown ##### 2. Now check that your code created that variable by typing the variable name (and running the code cell).\n",
        "\n",
        "#add your code here below\n",
        "\n",
        "sample_political_party = \"CDU\"\n",
        "if sample_political_party in political_parties:\n",
        "    print(sample_political_party + \" is in the collection\")"
      ],
      "metadata": {
        "id": "b3vb3VQkXHoD",
        "colab": {
          "base_uri": "https://localhost:8080/"
        },
        "outputId": "44364ce6-59b0-446e-ab76-26b919690f30"
      },
      "execution_count": null,
      "outputs": [
        {
          "output_type": "stream",
          "name": "stdout",
          "text": [
            "CDU is in the collection\n"
          ]
        }
      ]
    },
    {
      "cell_type": "code",
      "source": [
        "# @markdown ##### 3. Now add: For each party, print ('I will vote for this party')\n",
        "\n",
        "#add your code here below\n",
        "\n",
        "for political_party in political_parties:\n",
        "  print(\"People vote for \" + political_party)"
      ],
      "metadata": {
        "id": "pHRlVE6AZvzK",
        "colab": {
          "base_uri": "https://localhost:8080/"
        },
        "outputId": "235b6eee-4055-47b7-99e1-ad81d02dc096"
      },
      "execution_count": null,
      "outputs": [
        {
          "output_type": "stream",
          "name": "stdout",
          "text": [
            "People vote for AfD\n",
            "People vote for BIW\n",
            "People vote for BSW\n",
            "People vote for CDU\n",
            "People vote for CSU\n",
            "People vote for FAMILIE\n",
            "People vote for FDP\n",
            "People vote for FREIE WÄHLER\n",
            "People vote for DIE GRÜNEN\n",
            "People vote for Die LINKE\n",
            "People vote for ÖDP\n",
            "People vote for Die PARTEI\n",
            "People vote for SPD\n",
            "People vote for SSW\n",
            "People vote for Tierschutzpartei\n",
            "People vote for Volt Deutschland\n"
          ]
        }
      ]
    },
    {
      "cell_type": "code",
      "source": [
        "# @markdown ##### 3. Let's assume we would not like to vote for each party. Create a pogram that says 'I will not vote for *name a party*. For the other parties, write \"I will consider voting\".\n",
        "\n",
        "#add your code here\n",
        "state_parliament_of_hesse = [\"AfD\", \"CDU\", \"FDP\", \"DIE GRÜNEN\",\"SPD\"]\n",
        "beide_listen = set(state_parliament_of_hesse) & set(political_parties)\n",
        "\n",
        "for party in political_parties:\n",
        "  if party in beide_listen:\n",
        "    print(\"The political party \" + party + \" is since 2023 represented in the State Parliament of Hesse.\")\n",
        "  else:\n",
        "    print(\"The political party \" + party + \" is since 2023 NOT represented in the State Parliament of Hesse.\")\n"
      ],
      "metadata": {
        "id": "XFK6Pw5jeKLL",
        "colab": {
          "base_uri": "https://localhost:8080/"
        },
        "outputId": "faa91475-cb70-46f0-e256-6812f2d161a0"
      },
      "execution_count": null,
      "outputs": [
        {
          "output_type": "stream",
          "name": "stdout",
          "text": [
            "The political party AfD is since 2023 represented in the State Parliament of Hesse.\n",
            "The political party BIW is since 2023 NOT represented in the State Parliament of Hesse.\n",
            "The political party BSW is since 2023 NOT represented in the State Parliament of Hesse.\n",
            "The political party CDU is since 2023 represented in the State Parliament of Hesse.\n",
            "The political party CSU is since 2023 NOT represented in the State Parliament of Hesse.\n",
            "The political party FAMILIE is since 2023 NOT represented in the State Parliament of Hesse.\n",
            "The political party FDP is since 2023 represented in the State Parliament of Hesse.\n",
            "The political party FREIE WÄHLER is since 2023 NOT represented in the State Parliament of Hesse.\n",
            "The political party DIE GRÜNEN is since 2023 represented in the State Parliament of Hesse.\n",
            "The political party Die LINKE is since 2023 NOT represented in the State Parliament of Hesse.\n",
            "The political party ÖDP is since 2023 NOT represented in the State Parliament of Hesse.\n",
            "The political party Die PARTEI is since 2023 NOT represented in the State Parliament of Hesse.\n",
            "The political party SPD is since 2023 represented in the State Parliament of Hesse.\n",
            "The political party SSW is since 2023 NOT represented in the State Parliament of Hesse.\n",
            "The political party Tierschutzpartei is since 2023 NOT represented in the State Parliament of Hesse.\n",
            "The political party Volt Deutschland is since 2023 NOT represented in the State Parliament of Hesse.\n"
          ]
        }
      ]
    },
    {
      "cell_type": "markdown",
      "source": [
        "## Creating lists from text\n",
        "\n",
        "We can also create a list of the words from a sentence. For this, we use the split() function, which will split each word into a single unit."
      ],
      "metadata": {
        "id": "LeA0bv1sqeev"
      }
    },
    {
      "cell_type": "code",
      "source": [
        "sentence = \"Bleiburg, 14. April. (Erdbeben.) Um 11 Uhr \\\n",
        "15 Minuten nachts wurde ein unheim­ liches Erdbeben mit schauerlichem unterirdischem\\\n",
        "Brausen und Getöse vernommen.\"\n",
        "\n",
        "sentence.split()"
      ],
      "metadata": {
        "id": "jxY5OAftq1D6",
        "colab": {
          "base_uri": "https://localhost:8080/"
        },
        "outputId": "83dee5b1-0c91-4c87-cf94-d3d738708a31"
      },
      "execution_count": null,
      "outputs": [
        {
          "output_type": "execute_result",
          "data": {
            "text/plain": [
              "['Bleiburg,',\n",
              " '14.',\n",
              " 'April.',\n",
              " '(Erdbeben.)',\n",
              " 'Um',\n",
              " '11',\n",
              " 'Uhr',\n",
              " '15',\n",
              " 'Minuten',\n",
              " 'nachts',\n",
              " 'wurde',\n",
              " 'ein',\n",
              " 'unheim\\xad',\n",
              " 'liches',\n",
              " 'Erdbeben',\n",
              " 'mit',\n",
              " 'schauerlichem',\n",
              " 'unterirdischemBrausen',\n",
              " 'und',\n",
              " 'Getöse',\n",
              " 'vernommen.']"
            ]
          },
          "metadata": {},
          "execution_count": 18
        }
      ]
    },
    {
      "cell_type": "markdown",
      "source": [
        "We can further add new items to a list. Let's start with an empty list this time and add two words from the splitted words above. To add items to a list, we use the append() function."
      ],
      "metadata": {
        "id": "Ns1FLYues9g-"
      }
    },
    {
      "cell_type": "code",
      "source": [
        "list = []\n",
        "list.append('Getöse')\n",
        "list.append('Erdbeben')\n",
        "list"
      ],
      "metadata": {
        "id": "fHQwRx4Xs72S",
        "colab": {
          "base_uri": "https://localhost:8080/"
        },
        "outputId": "63710e2b-057d-45ec-e492-b4cc8086cc15"
      },
      "execution_count": null,
      "outputs": [
        {
          "output_type": "execute_result",
          "data": {
            "text/plain": [
              "['Getöse', 'Erdbeben']"
            ]
          },
          "metadata": {},
          "execution_count": 19
        }
      ]
    }
  ]
}